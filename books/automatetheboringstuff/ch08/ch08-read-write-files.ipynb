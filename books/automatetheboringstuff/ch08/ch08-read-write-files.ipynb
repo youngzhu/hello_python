{
 "cells": [
  {
   "cell_type": "markdown",
   "metadata": {},
   "source": [
    "# CH08 读写文件"
   ]
  },
  {
   "cell_type": "code",
   "execution_count": 4,
   "metadata": {},
   "outputs": [
    {
     "name": "stdout",
     "output_type": "stream",
     "text": [
      "to be\n",
      "or not to be\n",
      "this is a question.\n",
      "['to be\\n', 'or not to be\\n', 'this is a question.']\n"
     ]
    }
   ],
   "source": [
    "# 读取文件内容\n",
    "helloFile = open('hello.txt')\n",
    "print(helloFile.read())\n",
    "\n",
    "# 一次open，只能read一次\n",
    "helloFile = open('hello.txt')\n",
    "print(helloFile.readlines())"
   ]
  }
 ],
 "metadata": {
  "kernelspec": {
   "display_name": "Python 3.11.11 ('hello')",
   "language": "python",
   "name": "python3"
  },
  "language_info": {
   "codemirror_mode": {
    "name": "ipython",
    "version": 3
   },
   "file_extension": ".py",
   "mimetype": "text/x-python",
   "name": "python",
   "nbconvert_exporter": "python",
   "pygments_lexer": "ipython3",
   "version": "3.11.11"
  },
  "orig_nbformat": 4,
  "vscode": {
   "interpreter": {
    "hash": "f9effe827779de98f29e3e5c60fe53bbb5806097c7eb58be7660c80701377448"
   }
  }
 },
 "nbformat": 4,
 "nbformat_minor": 2
}
