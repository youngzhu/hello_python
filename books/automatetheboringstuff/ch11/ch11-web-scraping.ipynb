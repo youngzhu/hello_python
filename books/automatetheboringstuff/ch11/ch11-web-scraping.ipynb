{
 "cells": [
  {
   "cell_type": "markdown",
   "metadata": {},
   "source": [
    "# CH11 从 web 抓取信息"
   ]
  },
  {
   "cell_type": "code",
   "execution_count": 1,
   "metadata": {},
   "outputs": [
    {
     "name": "stdout",
     "output_type": "stream",
     "text": [
      "<class 'requests.models.Response'>\n",
      "True\n",
      "﻿The Project Gutenberg eBook of The Tragedy of Romeo and Juliet\n",
      "    \n",
      "This ebook is for the use of anyone anywhere in the United States and\n",
      "most other parts of the world at no cost and with almost no restrictions\n",
      "whatsoever. You may copy it, give \n"
     ]
    }
   ],
   "source": [
    "# 用 requests 模块从 Web 下载文件\n",
    "import requests\n",
    "\n",
    "res = requests.get('http://www.gutenberg.org/cache/epub/1112/pg1112.txt')\n",
    "print(type(res))\n",
    "print(res.status_code == requests.codes.ok)\n",
    "\n",
    "print(res.text[:250])"
   ]
  },
  {
   "cell_type": "markdown",
   "metadata": {},
   "source": [
    "## HTML"
   ]
  },
  {
   "cell_type": "code",
   "execution_count": 9,
   "metadata": {},
   "outputs": [
    {
     "name": "stdout",
     "output_type": "stream",
     "text": [
      "<class 'bs4.element.ResultSet'>\n",
      "1\n",
      "<class 'bs4.element.Tag'>\n",
      "<span id=\"author\">Al Sweigart</span>\n",
      "Al Sweigart\n",
      "{'id': 'author'}\n"
     ]
    }
   ],
   "source": [
    "# 用 select()方法寻找元素\n",
    "import bs4\n",
    "\n",
    "html = f\"\"\"<html><head><title>The Website Title</title></head>\n",
    "<body>\n",
    "<p>Download my <strong>Python</strong> book from <a href=\"http://inventwithpython.com\">my website</a>.</p>\n",
    "<p class=\"slogan\">Learn Python the easy way!</p>\n",
    "<p>By <span id=\"author\">Al Sweigart</span></p>\n",
    "</body></html>\n",
    "\"\"\"\n",
    "\n",
    "# exampleFile = open('example.html')\n",
    "# exampleSoup = bs4.BeautifulSoup(exampleFile.read())\n",
    "exampleSoup = bs4.BeautifulSoup(html)\n",
    "elems = exampleSoup.select('#author')\n",
    "print(type(elems))\n",
    "print(len(elems))\n",
    "\n",
    "print(type(elems[0]))\n",
    "print(elems[0])\n",
    "# print(elems[0].text()) # 报错\n",
    "print(elems[0].getText())\n",
    "print(elems[0].attrs)\n"
   ]
  },
  {
   "cell_type": "code",
   "execution_count": 14,
   "metadata": {},
   "outputs": [
    {
     "name": "stdout",
     "output_type": "stream",
     "text": [
      "<span id=\"author\">Al Sweigart</span>\n",
      "author\n",
      "{'id': 'author'}\n"
     ]
    }
   ],
   "source": [
    "# 通过元素的属性获取数据\n",
    "spanElem = exampleSoup.select('span')[0]\n",
    "print(str(spanElem))\n",
    "print(spanElem.get('id'))\n",
    "print(spanElem.attrs)"
   ]
  },
  {
   "cell_type": "markdown",
   "metadata": {},
   "source": [
    "## 用 selenium 模块控制浏览器"
   ]
  },
  {
   "cell_type": "code",
   "execution_count": 1,
   "metadata": {},
   "outputs": [
    {
     "ename": "NoSuchElementException",
     "evalue": "Message: no such element: Unable to locate element: {\"method\":\"link text\",\"selector\":\"More Info\"}\n  (Session info: chrome=133.0.6943.142); For documentation on this error, please visit: https://www.selenium.dev/documentation/webdriver/troubleshooting/errors#no-such-element-exception\nStacktrace:\n\tGetHandleVerifier [0x00007FF71AC5C6A5+28789]\n\t(No symbol) [0x00007FF71ABC5B20]\n\t(No symbol) [0x00007FF71AA58F9A]\n\t(No symbol) [0x00007FF71AAAF346]\n\t(No symbol) [0x00007FF71AAAF57C]\n\t(No symbol) [0x00007FF71AB02B17]\n\t(No symbol) [0x00007FF71AAD736F]\n\t(No symbol) [0x00007FF71AAFF7E3]\n\t(No symbol) [0x00007FF71AAD7103]\n\t(No symbol) [0x00007FF71AA9FFC0]\n\t(No symbol) [0x00007FF71AAA1273]\n\tGetHandleVerifier [0x00007FF71AFA1AED+3458237]\n\tGetHandleVerifier [0x00007FF71AFB829C+3550316]\n\tGetHandleVerifier [0x00007FF71AFADB9D+3507565]\n\tGetHandleVerifier [0x00007FF71AD22C6A+841274]\n\t(No symbol) [0x00007FF71ABD09EF]\n\t(No symbol) [0x00007FF71ABCCB34]\n\t(No symbol) [0x00007FF71ABCCCD6]\n\t(No symbol) [0x00007FF71ABBC119]\n\tBaseThreadInitThunk [0x00007FFEADF87374+20]\n\tRtlUserThreadStart [0x00007FFEAE3DCC91+33]\n",
     "output_type": "error",
     "traceback": [
      "\u001b[1;31m---------------------------------------------------------------------------\u001b[0m",
      "\u001b[1;31mNoSuchElementException\u001b[0m                    Traceback (most recent call last)",
      "Cell \u001b[1;32mIn[1], line 8\u001b[0m\n\u001b[0;32m      6\u001b[0m browser\u001b[38;5;241m.\u001b[39mget(\u001b[38;5;124m'\u001b[39m\u001b[38;5;124mhttp://eds.newtouch.cn/eds3/login.html\u001b[39m\u001b[38;5;124m'\u001b[39m)\n\u001b[0;32m      7\u001b[0m \u001b[38;5;66;03m# linkElem = browser.find_element_by_link_text('More Info')\u001b[39;00m\n\u001b[1;32m----> 8\u001b[0m linkElem \u001b[38;5;241m=\u001b[39m \u001b[43mbrowser\u001b[49m\u001b[38;5;241;43m.\u001b[39;49m\u001b[43mfind_element\u001b[49m\u001b[43m(\u001b[49m\u001b[43mBy\u001b[49m\u001b[38;5;241;43m.\u001b[39;49m\u001b[43mLINK_TEXT\u001b[49m\u001b[43m,\u001b[49m\u001b[43m \u001b[49m\u001b[38;5;124;43m'\u001b[39;49m\u001b[38;5;124;43mMore Info\u001b[39;49m\u001b[38;5;124;43m'\u001b[39;49m\u001b[43m)\u001b[49m\n\u001b[0;32m      9\u001b[0m \u001b[38;5;28mprint\u001b[39m(\u001b[38;5;28mtype\u001b[39m(linkElem))\n\u001b[0;32m     10\u001b[0m linkElem\u001b[38;5;241m.\u001b[39mclick() \u001b[38;5;66;03m# follows the \"Read It Online\" link\u001b[39;00m\n",
      "File \u001b[1;32mc:\\ProgramData\\miniconda3\\envs\\hello\\Lib\\site-packages\\selenium\\webdriver\\remote\\webdriver.py:898\u001b[0m, in \u001b[0;36mWebDriver.find_element\u001b[1;34m(self, by, value)\u001b[0m\n\u001b[0;32m    895\u001b[0m         \u001b[39mraise\u001b[39;00m NoSuchElementException(\u001b[39mf\u001b[39m\u001b[39m\"\u001b[39m\u001b[39mCannot locate relative element with: \u001b[39m\u001b[39m{\u001b[39;00mby\u001b[39m.\u001b[39mroot\u001b[39m}\u001b[39;00m\u001b[39m\"\u001b[39m)\n\u001b[0;32m    896\u001b[0m     \u001b[39mreturn\u001b[39;00m elements[\u001b[39m0\u001b[39m]\n\u001b[1;32m--> 898\u001b[0m \u001b[39mreturn\u001b[39;00m \u001b[39mself\u001b[39;49m\u001b[39m.\u001b[39;49mexecute(Command\u001b[39m.\u001b[39;49mFIND_ELEMENT, {\u001b[39m\"\u001b[39;49m\u001b[39musing\u001b[39;49m\u001b[39m\"\u001b[39;49m: by, \u001b[39m\"\u001b[39;49m\u001b[39mvalue\u001b[39;49m\u001b[39m\"\u001b[39;49m: value})[\u001b[39m\"\u001b[39m\u001b[39mvalue\u001b[39m\u001b[39m\"\u001b[39m]\n",
      "File \u001b[1;32mc:\\ProgramData\\miniconda3\\envs\\hello\\Lib\\site-packages\\selenium\\webdriver\\remote\\webdriver.py:429\u001b[0m, in \u001b[0;36mWebDriver.execute\u001b[1;34m(self, driver_command, params)\u001b[0m\n\u001b[0;32m    427\u001b[0m response \u001b[39m=\u001b[39m \u001b[39mself\u001b[39m\u001b[39m.\u001b[39mcommand_executor\u001b[39m.\u001b[39mexecute(driver_command, params)\n\u001b[0;32m    428\u001b[0m \u001b[39mif\u001b[39;00m response:\n\u001b[1;32m--> 429\u001b[0m     \u001b[39mself\u001b[39;49m\u001b[39m.\u001b[39;49merror_handler\u001b[39m.\u001b[39;49mcheck_response(response)\n\u001b[0;32m    430\u001b[0m     response[\u001b[39m\"\u001b[39m\u001b[39mvalue\u001b[39m\u001b[39m\"\u001b[39m] \u001b[39m=\u001b[39m \u001b[39mself\u001b[39m\u001b[39m.\u001b[39m_unwrap_value(response\u001b[39m.\u001b[39mget(\u001b[39m\"\u001b[39m\u001b[39mvalue\u001b[39m\u001b[39m\"\u001b[39m, \u001b[39mNone\u001b[39;00m))\n\u001b[0;32m    431\u001b[0m     \u001b[39mreturn\u001b[39;00m response\n",
      "File \u001b[1;32mc:\\ProgramData\\miniconda3\\envs\\hello\\Lib\\site-packages\\selenium\\webdriver\\remote\\errorhandler.py:232\u001b[0m, in \u001b[0;36mErrorHandler.check_response\u001b[1;34m(self, response)\u001b[0m\n\u001b[0;32m    230\u001b[0m         alert_text \u001b[39m=\u001b[39m value[\u001b[39m\"\u001b[39m\u001b[39malert\u001b[39m\u001b[39m\"\u001b[39m]\u001b[39m.\u001b[39mget(\u001b[39m\"\u001b[39m\u001b[39mtext\u001b[39m\u001b[39m\"\u001b[39m)\n\u001b[0;32m    231\u001b[0m     \u001b[39mraise\u001b[39;00m exception_class(message, screen, stacktrace, alert_text)  \u001b[39m# type: ignore[call-arg]  # mypy is not smart enough here\u001b[39;00m\n\u001b[1;32m--> 232\u001b[0m \u001b[39mraise\u001b[39;00m exception_class(message, screen, stacktrace)\n",
      "\u001b[1;31mNoSuchElementException\u001b[0m: Message: no such element: Unable to locate element: {\"method\":\"link text\",\"selector\":\"More Info\"}\n  (Session info: chrome=133.0.6943.142); For documentation on this error, please visit: https://www.selenium.dev/documentation/webdriver/troubleshooting/errors#no-such-element-exception\nStacktrace:\n\tGetHandleVerifier [0x00007FF71AC5C6A5+28789]\n\t(No symbol) [0x00007FF71ABC5B20]\n\t(No symbol) [0x00007FF71AA58F9A]\n\t(No symbol) [0x00007FF71AAAF346]\n\t(No symbol) [0x00007FF71AAAF57C]\n\t(No symbol) [0x00007FF71AB02B17]\n\t(No symbol) [0x00007FF71AAD736F]\n\t(No symbol) [0x00007FF71AAFF7E3]\n\t(No symbol) [0x00007FF71AAD7103]\n\t(No symbol) [0x00007FF71AA9FFC0]\n\t(No symbol) [0x00007FF71AAA1273]\n\tGetHandleVerifier [0x00007FF71AFA1AED+3458237]\n\tGetHandleVerifier [0x00007FF71AFB829C+3550316]\n\tGetHandleVerifier [0x00007FF71AFADB9D+3507565]\n\tGetHandleVerifier [0x00007FF71AD22C6A+841274]\n\t(No symbol) [0x00007FF71ABD09EF]\n\t(No symbol) [0x00007FF71ABCCB34]\n\t(No symbol) [0x00007FF71ABCCCD6]\n\t(No symbol) [0x00007FF71ABBC119]\n\tBaseThreadInitThunk [0x00007FFEADF87374+20]\n\tRtlUserThreadStart [0x00007FFEAE3DCC91+33]\n"
     ]
    }
   ],
   "source": [
    "# 点击\n",
    "from selenium import webdriver\n",
    "from selenium.webdriver.common.by import By\n",
    "\n",
    "browser = webdriver.Chrome()\n",
    "browser.get('http://bing.com')\n",
    "# linkElem = browser.find_element_by_link_text('More Info')\n",
    "linkElem = browser.find_element(By.LINK_TEXT, 'More Info')\n",
    "print(type(linkElem))\n",
    "linkElem.click() # follows the \"Read It Online\" link"
   ]
  }
 ],
 "metadata": {
  "kernelspec": {
   "display_name": "Python 3.11.11 ('hello')",
   "language": "python",
   "name": "python3"
  },
  "language_info": {
   "codemirror_mode": {
    "name": "ipython",
    "version": 3
   },
   "file_extension": ".py",
   "mimetype": "text/x-python",
   "name": "python",
   "nbconvert_exporter": "python",
   "pygments_lexer": "ipython3",
   "version": "3.11.11"
  },
  "orig_nbformat": 4,
  "vscode": {
   "interpreter": {
    "hash": "f9effe827779de98f29e3e5c60fe53bbb5806097c7eb58be7660c80701377448"
   }
  }
 },
 "nbformat": 4,
 "nbformat_minor": 2
}
