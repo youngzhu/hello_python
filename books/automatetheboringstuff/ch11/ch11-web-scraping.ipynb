{
 "cells": [
  {
   "cell_type": "markdown",
   "metadata": {},
   "source": [
    "# CH11 从 web 抓取信息"
   ]
  },
  {
   "cell_type": "code",
   "execution_count": 1,
   "metadata": {},
   "outputs": [
    {
     "name": "stdout",
     "output_type": "stream",
     "text": [
      "<class 'requests.models.Response'>\n",
      "True\n",
      "﻿The Project Gutenberg eBook of The Tragedy of Romeo and Juliet\n",
      "    \n",
      "This ebook is for the use of anyone anywhere in the United States and\n",
      "most other parts of the world at no cost and with almost no restrictions\n",
      "whatsoever. You may copy it, give \n"
     ]
    }
   ],
   "source": [
    "# 用 requests 模块从 Web 下载文件\n",
    "import requests\n",
    "\n",
    "res = requests.get('http://www.gutenberg.org/cache/epub/1112/pg1112.txt')\n",
    "print(type(res))\n",
    "print(res.status_code == requests.codes.ok)\n",
    "\n",
    "print(res.text[:250])"
   ]
  },
  {
   "cell_type": "markdown",
   "metadata": {},
   "source": [
    "## HTML"
   ]
  },
  {
   "cell_type": "code",
   "execution_count": 9,
   "metadata": {},
   "outputs": [
    {
     "name": "stdout",
     "output_type": "stream",
     "text": [
      "<class 'bs4.element.ResultSet'>\n",
      "1\n",
      "<class 'bs4.element.Tag'>\n",
      "<span id=\"author\">Al Sweigart</span>\n",
      "Al Sweigart\n",
      "{'id': 'author'}\n"
     ]
    }
   ],
   "source": [
    "# 用 select()方法寻找元素\n",
    "import bs4\n",
    "\n",
    "html = f\"\"\"<html><head><title>The Website Title</title></head>\n",
    "<body>\n",
    "<p>Download my <strong>Python</strong> book from <a href=\"http://inventwithpython.com\">my website</a>.</p>\n",
    "<p class=\"slogan\">Learn Python the easy way!</p>\n",
    "<p>By <span id=\"author\">Al Sweigart</span></p>\n",
    "</body></html>\n",
    "\"\"\"\n",
    "\n",
    "# exampleFile = open('example.html')\n",
    "# exampleSoup = bs4.BeautifulSoup(exampleFile.read())\n",
    "exampleSoup = bs4.BeautifulSoup(html)\n",
    "elems = exampleSoup.select('#author')\n",
    "print(type(elems))\n",
    "print(len(elems))\n",
    "\n",
    "print(type(elems[0]))\n",
    "print(elems[0])\n",
    "# print(elems[0].text()) # 报错\n",
    "print(elems[0].getText())\n",
    "print(elems[0].attrs)\n"
   ]
  },
  {
   "cell_type": "code",
   "execution_count": 14,
   "metadata": {},
   "outputs": [
    {
     "name": "stdout",
     "output_type": "stream",
     "text": [
      "<span id=\"author\">Al Sweigart</span>\n",
      "author\n",
      "{'id': 'author'}\n"
     ]
    }
   ],
   "source": [
    "# 通过元素的属性获取数据\n",
    "spanElem = exampleSoup.select('span')[0]\n",
    "print(str(spanElem))\n",
    "print(spanElem.get('id'))\n",
    "print(spanElem.attrs)"
   ]
  },
  {
   "cell_type": "markdown",
   "metadata": {},
   "source": [
    "## 用 selenium 模块控制浏览器"
   ]
  },
  {
   "cell_type": "code",
   "execution_count": 6,
   "metadata": {},
   "outputs": [
    {
     "name": "stdout",
     "output_type": "stream",
     "text": [
      "<class 'selenium.webdriver.remote.webelement.WebElement'>\n"
     ]
    }
   ],
   "source": [
    "# 点击\n",
    "from selenium import webdriver\n",
    "from selenium.webdriver.common.by import By\n",
    "\n",
    "browser = webdriver.Chrome()\n",
    "browser.get('http://inventwithpython.com')\n",
    "# linkElem = browser.find_element_by_link_text('More Info')\n",
    "linkElem = browser.find_element(By.LINK_TEXT, 'More Info')\n",
    "print(type(linkElem))\n",
    "linkElem.click() # follows the \"Read It Online\" link"
   ]
  }
 ],
 "metadata": {
  "kernelspec": {
   "display_name": "Python 3.11.11 ('hello')",
   "language": "python",
   "name": "python3"
  },
  "language_info": {
   "codemirror_mode": {
    "name": "ipython",
    "version": 3
   },
   "file_extension": ".py",
   "mimetype": "text/x-python",
   "name": "python",
   "nbconvert_exporter": "python",
   "pygments_lexer": "ipython3",
   "version": "3.11.11"
  },
  "orig_nbformat": 4,
  "vscode": {
   "interpreter": {
    "hash": "f9effe827779de98f29e3e5c60fe53bbb5806097c7eb58be7660c80701377448"
   }
  }
 },
 "nbformat": 4,
 "nbformat_minor": 2
}
