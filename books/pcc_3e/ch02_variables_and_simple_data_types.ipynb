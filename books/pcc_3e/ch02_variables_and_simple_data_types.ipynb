{
 "cells": [
  {
   "cell_type": "markdown",
   "metadata": {},
   "source": [
    "# CH02 变量和简单的数据类型"
   ]
  },
  {
   "cell_type": "markdown",
   "metadata": {},
   "source": [
    "## 变量\n",
    "Python中建议，变量名以 小写字母、下划线、数字 组合。\n",
    "不推荐用大写字母。"
   ]
  },
  {
   "cell_type": "code",
   "execution_count": 2,
   "metadata": {},
   "outputs": [
    {
     "name": "stdout",
     "output_type": "stream",
     "text": [
      "Hello world!\n",
      "Hello Python world!!!\n"
     ]
    }
   ],
   "source": [
    "message = \"Hello world!\"\n",
    "print(message)\n",
    "\n",
    "message = \"Hello Python world!!!\"\n",
    "print(message)"
   ]
  },
  {
   "cell_type": "markdown",
   "metadata": {},
   "source": [
    "## 字符串\n",
    "既可以用单引号，也可以用双引号。\n",
    "\n",
    "这就给含有引号的字符串带来了方便。"
   ]
  },
  {
   "cell_type": "code",
   "execution_count": 3,
   "metadata": {},
   "outputs": [
    {
     "name": "stdout",
     "output_type": "stream",
     "text": [
      "This is a String.\n",
      "This is also a string.\n",
      "I told my friend, \"Python is my favorite language!\"\n",
      "The language 'Python' is named after Monty Python, not the snake.\n"
     ]
    }
   ],
   "source": [
    "s = \"This is a String.\"\n",
    "print(s)\n",
    "s = 'This is also a string.'\n",
    "print(s)\n",
    "\n",
    "# 灵活性\n",
    "s = 'I told my friend, \"Python is my favorite language!\"'\n",
    "print(s)\n",
    "s = \"The language 'Python' is named after Monty Python, not the snake.\"\n",
    "print(s)"
   ]
  },
  {
   "cell_type": "code",
   "execution_count": 2,
   "metadata": {},
   "outputs": [
    {
     "name": "stdout",
     "output_type": "stream",
     "text": [
      "Ada Lovelace\n",
      "ADA LOVELACE\n",
      "ada lovelace\n"
     ]
    }
   ],
   "source": [
    "# 大小写\n",
    "name = \"ada lovelace\"\n",
    "print(name.title())\n",
    "\n",
    "name = \"Ada Lovelace\"\n",
    "print(name.upper())\n",
    "print(name.lower())"
   ]
  },
  {
   "cell_type": "code",
   "execution_count": 4,
   "metadata": {},
   "outputs": [
    {
     "name": "stdout",
     "output_type": "stream",
     "text": [
      "ada lovelace\n",
      "Hello, Ada Lovelace!\n"
     ]
    }
   ],
   "source": [
    "# 在字符串中使用变量\n",
    "# f 是 format 的简写\n",
    "first_name = \"ada\"\n",
    "last_name = \"lovelace\"\n",
    "full_name = f\"{first_name} {last_name}\"\n",
    "print(full_name)\n",
    "\n",
    "print(f\"Hello, {full_name.title()}!\")"
   ]
  },
  {
   "cell_type": "code",
   "execution_count": 8,
   "metadata": {},
   "outputs": [
    {
     "name": "stdout",
     "output_type": "stream",
     "text": [
      "my favorite language is ' python '.\n",
      "my favorite language is 'python '.\n",
      "my favorite language is ' python'.\n",
      "my favorite language is 'python'.\n"
     ]
    }
   ],
   "source": [
    "# 删除空白\n",
    "favorite_language = ' python '\n",
    "print(f\"my favorite language is '{favorite_language}'.\")\n",
    "\n",
    "# 删除左端空白\n",
    "favorite_language = ' python '\n",
    "print(f\"my favorite language is '{favorite_language.lstrip()}'.\")\n",
    " \n",
    " \n",
    "# 删除右端空白\n",
    "favorite_language = ' python '\n",
    "print(f\"my favorite language is '{favorite_language.rstrip()}'.\")\n",
    "\n",
    "\n",
    "# 删除两端空白\n",
    "favorite_language = ' python '\n",
    "print(f\"my favorite language is '{favorite_language.strip()}'.\")"
   ]
  },
  {
   "cell_type": "code",
   "execution_count": 13,
   "metadata": {},
   "outputs": [
    {
     "name": "stdout",
     "output_type": "stream",
     "text": [
      "https://youngzy.com\n",
      "youngzy.com\n",
      "README.md\n",
      "README\n"
     ]
    }
   ],
   "source": [
    "# 删除前缀、后缀\n",
    "url = 'https://youngzy.com'\n",
    "print(url)\n",
    "print(url.removeprefix('https://'))\n",
    "\n",
    "filename = 'README.md'\n",
    "print(filename)\n",
    "print(filename.removesuffix('.md'))"
   ]
  },
  {
   "cell_type": "markdown",
   "metadata": {},
   "source": [
    "## 数（Number）"
   ]
  },
  {
   "cell_type": "code",
   "execution_count": 17,
   "metadata": {},
   "outputs": [
    {
     "name": "stdout",
     "output_type": "stream",
     "text": [
      "2.0\n",
      "14000000000\n",
      "1\n",
      "2\n",
      "3\n",
      "test\n",
      "500\n",
      "1000\n"
     ]
    }
   ],
   "source": [
    "# 任意两个数相除，结果总是浮点数\n",
    "print(4/2)\n",
    "\n",
    "# 下划线，便于阅读\n",
    "universe_age = 14_000_000_000\n",
    "print(universe_age)\n",
    "\n",
    "# 同时给多个变量赋值\n",
    "# 经测试，不需要变量都是同一个类型\n",
    "x, y, z, s = 1, 2, 3, 'test'\n",
    "print(x)\n",
    "print(y)\n",
    "print(z)\n",
    "print(s)\n",
    "\n",
    "# 常量\n",
    "# Python中没有内置的常量类型。通常，全部大写的变量名，视为常量\n",
    "MAX_CONNECTIONS = 500\n",
    "print(MAX_CONNECTIONS)\n",
    "\n",
    "MAX_CONNECTIONS = 1000\n",
    "print(MAX_CONNECTIONS)"
   ]
  },
  {
   "cell_type": "markdown",
   "metadata": {},
   "source": [
    "## 注释"
   ]
  }
 ],
 "metadata": {
  "kernelspec": {
   "display_name": "Python 3.11.11 ('hello')",
   "language": "python",
   "name": "python3"
  },
  "language_info": {
   "codemirror_mode": {
    "name": "ipython",
    "version": 3
   },
   "file_extension": ".py",
   "mimetype": "text/x-python",
   "name": "python",
   "nbconvert_exporter": "python",
   "pygments_lexer": "ipython3",
   "version": "3.11.11"
  },
  "orig_nbformat": 4,
  "vscode": {
   "interpreter": {
    "hash": "f9effe827779de98f29e3e5c60fe53bbb5806097c7eb58be7660c80701377448"
   }
  }
 },
 "nbformat": 4,
 "nbformat_minor": 2
}
