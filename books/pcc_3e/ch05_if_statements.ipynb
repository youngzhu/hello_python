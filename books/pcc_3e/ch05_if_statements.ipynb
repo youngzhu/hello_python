{
 "cells": [
  {
   "cell_type": "markdown",
   "metadata": {},
   "source": [
    "# CH05 if 语句"
   ]
  },
  {
   "cell_type": "code",
   "execution_count": 1,
   "metadata": {},
   "outputs": [
    {
     "name": "stdout",
     "output_type": "stream",
     "text": [
      "Audi\n",
      "BMW\n",
      "Subaru\n",
      "Toyota\n"
     ]
    }
   ],
   "source": [
    "cars = ['audi', 'bmw', 'subaru', 'toyota']\n",
    "\n",
    "for car in cars:\n",
    "    if car == 'bmw':\n",
    "        print(car.upper())\n",
    "    else:\n",
    "        print(car.title())"
   ]
  },
  {
   "cell_type": "code",
   "execution_count": 4,
   "metadata": {},
   "outputs": [
    {
     "name": "stdout",
     "output_type": "stream",
     "text": [
      "False\n",
      "True\n",
      "True\n"
     ]
    }
   ],
   "source": [
    "# 多个条件\n",
    "\n",
    "# and\n",
    "age_0 = 22\n",
    "age_1 = 18\n",
    "print(age_0 >= 20 and age_1 >= 20)\n",
    "print(age_0 >= 18 and age_1 >= 18)\n",
    "\n",
    "# or\n",
    "print(age_0 >= 20 or age_1 >= 20)"
   ]
  },
  {
   "cell_type": "code",
   "execution_count": 6,
   "metadata": {},
   "outputs": [
    {
     "name": "stdout",
     "output_type": "stream",
     "text": [
      "True\n",
      "False\n",
      "True\n"
     ]
    }
   ],
   "source": [
    "# 检查特定的值是否在列表中\n",
    "requested_toppings = ['mushrooms', 'extra cheese']\n",
    "\n",
    "print('mushrooms' in requested_toppings)\n",
    "print('pepperoni' in requested_toppings)\n",
    "print('pepperoni' not in requested_toppings)"
   ]
  },
  {
   "cell_type": "code",
   "execution_count": 7,
   "metadata": {},
   "outputs": [
    {
     "name": "stdout",
     "output_type": "stream",
     "text": [
      "Your admission cost is $25.\n"
     ]
    }
   ],
   "source": [
    "# if-elif-else\n",
    "age = 12\n",
    "\n",
    "if age < 4:\n",
    "    price = 0\n",
    "elif age < 18:\n",
    "    price = 25\n",
    "elif age < 65:\n",
    "    price = 40\n",
    "else:\n",
    "    price = 20\n",
    "\n",
    "print(f\"Your admission cost is ${price}.\")"
   ]
  },
  {
   "cell_type": "code",
   "execution_count": 8,
   "metadata": {},
   "outputs": [
    {
     "name": "stdout",
     "output_type": "stream",
     "text": [
      "Are you sure you want a plain pizza?\n"
     ]
    }
   ],
   "source": [
    "# 确定列表非空\n",
    "requested_toppings = []\n",
    "# 对于数值 0、空值 None、单引号空字符串 ''、双引号空字符串 \"\"、空列表 []、空元组 ()、空字典 {}，Python 都会返回 False。\n",
    "if requested_toppings:\n",
    "    for requested_topping in requested_toppings:\n",
    "        print(f\"Adding {requested_topping}.\")\n",
    "    print(\"\\nFinished making your pizza!\")\n",
    "else:\n",
    "    print(\"Are you sure you want a plain pizza?\")"
   ]
  }
 ],
 "metadata": {
  "kernelspec": {
   "display_name": "Python 3.11.11 ('hello')",
   "language": "python",
   "name": "python3"
  },
  "language_info": {
   "codemirror_mode": {
    "name": "ipython",
    "version": 3
   },
   "file_extension": ".py",
   "mimetype": "text/x-python",
   "name": "python",
   "nbconvert_exporter": "python",
   "pygments_lexer": "ipython3",
   "version": "3.11.11"
  },
  "orig_nbformat": 4,
  "vscode": {
   "interpreter": {
    "hash": "f9effe827779de98f29e3e5c60fe53bbb5806097c7eb58be7660c80701377448"
   }
  }
 },
 "nbformat": 4,
 "nbformat_minor": 2
}
