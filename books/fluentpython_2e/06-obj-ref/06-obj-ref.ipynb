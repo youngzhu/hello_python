{
 "cells": [
  {
   "cell_type": "markdown",
   "metadata": {},
   "source": [
    "# CH06 对象引用、可变性和垃圾回收"
   ]
  },
  {
   "cell_type": "markdown",
   "metadata": {},
   "source": [
    "## == VS is\n",
    "== 运算符比较两个对象的值（对象存储的数据），而 is 比较对象的标识"
   ]
  },
  {
   "cell_type": "code",
   "execution_count": 3,
   "metadata": {},
   "outputs": [
    {
     "name": "stdout",
     "output_type": "stream",
     "text": [
      "[3, [55, 44], (7, 8, 0)]\n",
      "True\n",
      "False\n",
      "l1: [3, [66, 44], (7, 8, 9), 100]\n",
      "l2: [3, [66, 44], (7, 8, 9)]\n",
      "l1: [3, [66, 44, 33, 22], (7, 8, 9), 100]\n",
      "l2: [3, [66, 44, 33, 22], (7, 8, 9, 10, 11)]\n"
     ]
    }
   ],
   "source": [
    "# 浅拷贝\n",
    "l1 = [3, [55, 44], (7, 8, 0)]\n",
    "l2 = list(l1)\n",
    "print(l2)\n",
    "print(l1 == l2)\n",
    "print(l2 is l1)\n",
    "\n",
    "l1 = [3, [66, 55, 44], (7, 8, 9)] \n",
    "l2 = list(l1) \n",
    "l1.append(100) \n",
    "l1[1].remove(55) \n",
    "print('l1:', l1) \n",
    "print('l2:', l2) \n",
    "l2[1] += [33, 22] \n",
    "l2[2] += (10, 11) \n",
    "print('l1:', l1) \n",
    "print('l2:', l2)"
   ]
  },
  {
   "cell_type": "markdown",
   "metadata": {},
   "source": [
    "## 不要使用可变类型作为参数的默认值\n",
    "见 haunted_bus.py\n",
    "\n",
    "**问题在于，没有指定初始乘客的 HauntedBus 实例共享同一个乘客列表。**"
   ]
  }
 ],
 "metadata": {
  "kernelspec": {
   "display_name": "Python 3.11.11 ('hello')",
   "language": "python",
   "name": "python3"
  },
  "language_info": {
   "codemirror_mode": {
    "name": "ipython",
    "version": 3
   },
   "file_extension": ".py",
   "mimetype": "text/x-python",
   "name": "python",
   "nbconvert_exporter": "python",
   "pygments_lexer": "ipython3",
   "version": "3.11.11"
  },
  "orig_nbformat": 4,
  "vscode": {
   "interpreter": {
    "hash": "f9effe827779de98f29e3e5c60fe53bbb5806097c7eb58be7660c80701377448"
   }
  }
 },
 "nbformat": 4,
 "nbformat_minor": 2
}
