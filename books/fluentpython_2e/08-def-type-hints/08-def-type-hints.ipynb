{
 "cells": [
  {
   "cell_type": "markdown",
   "metadata": {},
   "source": [
    "# CH08 函数中的类型提示"
   ]
  },
  {
   "cell_type": "markdown",
   "metadata": {},
   "source": [
    "## 元组类型"
   ]
  },
  {
   "cell_type": "markdown",
   "metadata": {},
   "source": [
    "- 用作记录的元组  \n",
    "    一个内容为城市名、人口数和所属国家的元组，例如('Shanghai', 24.28, 'China')，类型提示为 tuple[str, float, str]\n",
    "- 带有具名字段，用作记录的元组  \n",
    "    如果想注解带有多个字段的元组，或者代码中多次用到的特定类型的元组，强烈建议使用 typing.NamedTuple\n",
    "- 用作不可变序列的元组  \n",
    "    tuple[int, ...] 表示项为 int 类型的元组"
   ]
  },
  {
   "cell_type": "markdown",
   "metadata": {},
   "source": [
    "## typing.Protocol\n",
    "跟Golang的接口定义类似，只要实现了接口中定义的方法就是该接口的实现类，详见 comparable"
   ]
  }
 ],
 "metadata": {
  "kernelspec": {
   "display_name": "Python 3.11.11 ('hello')",
   "language": "python",
   "name": "python3"
  },
  "language_info": {
   "name": "python",
   "version": "3.11.11"
  },
  "orig_nbformat": 4,
  "vscode": {
   "interpreter": {
    "hash": "f9effe827779de98f29e3e5c60fe53bbb5806097c7eb58be7660c80701377448"
   }
  }
 },
 "nbformat": 4,
 "nbformat_minor": 2
}
