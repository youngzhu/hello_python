{
 "cells": [
  {
   "cell_type": "markdown",
   "metadata": {},
   "source": [
    "# CH02 丰富的序列"
   ]
  },
  {
   "cell_type": "markdown",
   "metadata": {},
   "source": [
    "## 列表推导式（list comprehension）和生成器表达式（generator expression）\n",
    "\n",
    "- 如果你不打算使用生成的列表，那就不要使用列表推导式句法。\n",
    "- 列表推导式应保持简短。如果超过两行，那么最好把语句拆开，或者使用传统的 for 循环重写。"
   ]
  },
  {
   "cell_type": "code",
   "execution_count": 2,
   "metadata": {},
   "outputs": [
    {
     "name": "stdout",
     "output_type": "stream",
     "text": [
      "[36, 162, 163, 165, 8364, 164]\n",
      "[36, 162, 163, 165, 8364, 164]\n"
     ]
    }
   ],
   "source": [
    "symbols = '$¢£¥€¤'\n",
    "\n",
    "# 常规的\n",
    "codes = []\n",
    "for symbol in symbols:\n",
    "    codes.append(ord(symbol))\n",
    "print(codes)\n",
    "\n",
    "# 列表推导\n",
    "codes2 = [ord(symbol) for symbol in symbols]\n",
    "print(codes2)"
   ]
  },
  {
   "cell_type": "code",
   "execution_count": 4,
   "metadata": {},
   "outputs": [
    {
     "name": "stdout",
     "output_type": "stream",
     "text": [
      "[('black', 'S'), ('black', 'M'), ('black', 'L'), ('white', 'S'), ('white', 'M'), ('white', 'L')]\n",
      "[('black', 'S'), ('black', 'M'), ('black', 'L'), ('white', 'S'), ('white', 'M'), ('white', 'L')]\n"
     ]
    }
   ],
   "source": [
    "# 笛卡尔积\n",
    "colors = ['black', 'white']\n",
    "sizes = ['S', 'M', 'L']\n",
    "tshirts = [(color, size) for color in colors for size in sizes]\n",
    "print(tshirts)\n",
    "\n",
    "# 换行也一样\n",
    "tshirts = [(color, size) for color in colors \n",
    "                         for size in sizes]\n",
    "print(tshirts)"
   ]
  },
  {
   "cell_type": "code",
   "execution_count": 6,
   "metadata": {},
   "outputs": [
    {
     "name": "stdout",
     "output_type": "stream",
     "text": [
      "(36, 162, 163, 165, 8364, 164)\n",
      "array('I', [36, 162, 163, 165, 8364, 164])\n"
     ]
    }
   ],
   "source": [
    "# 使用生成器表达式构建一个元组和一个数组\n",
    "tup = tuple(ord(symbol) for symbol in symbols)\n",
    "print(tup)\n",
    "\n",
    "import array\n",
    "\n",
    "arr = array.array('I', (ord(symbol) for symbol in symbols))\n",
    "print(arr)"
   ]
  },
  {
   "cell_type": "code",
   "execution_count": 7,
   "metadata": {},
   "outputs": [
    {
     "name": "stdout",
     "output_type": "stream",
     "text": [
      "black S\n",
      "black M\n",
      "black L\n",
      "white S\n",
      "white M\n",
      "white L\n"
     ]
    }
   ],
   "source": [
    "# 使用生成器表达式计算笛卡儿积\n",
    "# 生成器表达式逐个产出项。这个示例不会构建包含 6 种 T 恤衫组合的列表。\n",
    "for tshirt in ('%s %s' % (c, s) for c in colors for s in sizes):\n",
    "    print(tshirt)\n"
   ]
  },
  {
   "cell_type": "markdown",
   "metadata": {},
   "source": [
    "## 元组不仅仅是不可变列表"
   ]
  },
  {
   "cell_type": "code",
   "execution_count": 9,
   "metadata": {},
   "outputs": [
    {
     "name": "stdout",
     "output_type": "stream",
     "text": [
      "BRA/CE342567\n",
      "ESP/XDA205856\n",
      "USA/31195855\n",
      "---\n",
      "USA\n",
      "BRA\n",
      "ESP\n"
     ]
    }
   ],
   "source": [
    "lax_coordinates = (33.9425, -118.408056)\n",
    "city, year, pop, chg, area = ('Tokyo', 2003, 32_450, 0.66, 8014)\n",
    "traveler_ids = [('USA', '31195855'), ('BRA', 'CE342567'), ('ESP', 'XDA205856')]\n",
    "\n",
    "for passport in sorted(traveler_ids):\n",
    "    # % 格式化运算符理解元组结构，把每一项当作不同的字段\n",
    "    print('%s/%s' % passport)\n",
    "\n",
    "print('---')\n",
    "# for 循环知道如何获取元组中单独的每一项，这叫“拆包”。\n",
    "# 这里我们对第二项不感兴趣，因此把它赋值给虚拟变量 _\n",
    "for country, _ in traveler_ids:\n",
    "    print(country)"
   ]
  },
  {
   "cell_type": "code",
   "execution_count": 11,
   "metadata": {},
   "outputs": [
    {
     "name": "stdout",
     "output_type": "stream",
     "text": [
      "True\n",
      "False\n",
      "(10, 'alpha', [1, 2, 99])\n"
     ]
    }
   ],
   "source": [
    "# 元组作为不可变列表\n",
    "a = (10, 'alpha', [1, 2])\n",
    "b = (10, 'alpha', [1, 2])\n",
    "print(a == b)\n",
    "\n",
    "b[-1].append(99)\n",
    "print(a == b)\n",
    "print(b)"
   ]
  },
  {
   "cell_type": "code",
   "execution_count": 12,
   "metadata": {},
   "outputs": [
    {
     "name": "stdout",
     "output_type": "stream",
     "text": [
      "True\n",
      "False\n"
     ]
    }
   ],
   "source": [
    "# 如果你想显式判断一个元组（或其他对象）的值是否固定，则可以使用内置函数 hash 定义如下所示的 fixed 函数\n",
    "def fixed(o):\n",
    "    try:\n",
    "        hash(o)\n",
    "    except TypeError:\n",
    "        return False\n",
    "    return True\n",
    "\n",
    "\n",
    "tf = (10, 'alpha', (1, 2))  # Contains no mutable items\n",
    "tm = (10, 'alpha', [1, 2])  # Contains a mutable item (list)\n",
    "print(fixed(tf))\n",
    "print(fixed(tm))"
   ]
  },
  {
   "cell_type": "markdown",
   "metadata": {},
   "source": [
    "## 序列和可迭代对象拆包"
   ]
  },
  {
   "cell_type": "code",
   "execution_count": 4,
   "metadata": {},
   "outputs": [
    {
     "name": "stdout",
     "output_type": "stream",
     "text": [
      "33.9425\n",
      "-118.408056\n",
      "a=1, b=2\n",
      "a=2, b=1\n"
     ]
    }
   ],
   "source": [
    "lax_coordinates = (33.9425, -118.408056)\n",
    "latitude, longitude = lax_coordinates  # unpacking\n",
    "print(latitude)\n",
    "print(longitude)\n",
    "\n",
    "# 利用拆包还可以轻松对调两个变量的值，省掉中间的临时变量\n",
    "a, b = (1, 2)\n",
    "print(f\"a={a}, b={b}\")\n",
    "a, b = b, a\n",
    "print(f\"a={a}, b={b}\")"
   ]
  },
  {
   "cell_type": "code",
   "execution_count": 6,
   "metadata": {},
   "outputs": [
    {
     "name": "stdout",
     "output_type": "stream",
     "text": [
      "0 1 [2, 3, 4]\n",
      "0 [1, 2] 3 4\n"
     ]
    }
   ],
   "source": [
    "# 使用 * 获取余下的项\n",
    "a, b, *rest = range(5)\n",
    "print(a, b, rest)\n",
    "\n",
    "# 并行赋值时，* 前缀只能应用到一个变量上，不过可以是任何位置上的变量\n",
    "a, *body, c, d = range(5)\n",
    "print(a, body, c, d)"
   ]
  },
  {
   "cell_type": "code",
   "execution_count": 9,
   "metadata": {},
   "outputs": [
    {
     "name": "stdout",
     "output_type": "stream",
     "text": [
      "(0, 1, 2, 3, 4)\n",
      "[0, 1, 2, 3, 4]\n",
      "{0, 1, 2, 3, 4, 5, 6, 7}\n"
     ]
    }
   ],
   "source": [
    "# 使用 * 拆包\n",
    "x = *range(4), 4\n",
    "print(x)\n",
    "\n",
    "x = [*range(4), 4]\n",
    "print(x)\n",
    "\n",
    "x = {*range(4), 4, *(5, 6, 7)}\n",
    "print(x)"
   ]
  },
  {
   "cell_type": "markdown",
   "metadata": {},
   "source": [
    "##  序列模式匹配"
   ]
  },
  {
   "cell_type": "code",
   "execution_count": null,
   "metadata": {},
   "outputs": [],
   "source": [
    "def handle_command(self, message):\n",
    "    match message:\n",
    "        case ['BEEPER', frequency, times]:\n",
    "            self.beep(times, frequency)\n",
    "        case ['NECK', angle]:\n",
    "            self.rotate_neck(angle)\n",
    "        case ['LED', ident, intensity]:\n",
    "            self.leds[ident].set_brightness(ident, intensity)\n",
    "        case ['LED', ident, red, green, blue]:\n",
    "            self.leds[ident].set_color(ident, red, green, blue)\n",
    "        case _:\n",
    "            raise InvalidCommand(message)"
   ]
  },
  {
   "cell_type": "markdown",
   "metadata": {},
   "source": [
    "## 切片\n",
    "\n",
    "### 为什么切片和区间排除最后一项\n",
    "排除最后一项可以带来以下好处（以前只觉得不方便。。）：\n",
    "- 在仅指定停止位置时，容易判断切片或区间的长度。例如， range(3) 和 my_list[:3] 都只产生 3 项。\n",
    "- 同时指定起始和停止位置时，容易计算切片或区间的长度，做个减法即可：stop - start。\n",
    "- 方便在索引 x 处把一个序列拆分成两部分而不产生重叠，直接使用 my_list[:x] 和 my_list[x:] 即可"
   ]
  },
  {
   "cell_type": "code",
   "execution_count": 1,
   "metadata": {},
   "outputs": [
    {
     "name": "stdout",
     "output_type": "stream",
     "text": [
      "bye\n",
      "elcycib\n",
      "eccb\n"
     ]
    }
   ],
   "source": [
    "# seq[start:stop:step]\n",
    "s = 'bicycle'\n",
    "print(s[::3])\n",
    "print(s[::-1])\n",
    "print(s[::-2])"
   ]
  },
  {
   "cell_type": "code",
   "execution_count": 3,
   "metadata": {},
   "outputs": [
    {
     "name": "stdout",
     "output_type": "stream",
     "text": [
      "    $17.50   Pimoroni PiBrella                  \n",
      "     $4.95   6mm Tactile Switch x20             \n",
      "    $28.00   Panavise Jr. - PV-201              \n",
      "    $34.95   PiTFT Mini Kit 320x240             \n",
      " \n"
     ]
    }
   ],
   "source": [
    "invoice = \"\"\"\n",
    "0.....6.................................40........52...55........\n",
    "1909 Pimoroni PiBrella                      $17.50    3    $52.50\n",
    "1489 6mm Tactile Switch x20                  $4.95    2    $9.90\n",
    "1510 Panavise Jr. - PV-201                  $28.00    1    $28.00\n",
    "1601 PiTFT Mini Kit 320x240                 $34.95    1    $34.95\n",
    "\"\"\"\n",
    "\n",
    "SKU = slice(0, 5)\n",
    "DESCRIPTION = slice(5, 40)\n",
    "UNIT_PRICE = slice(40, 52)\n",
    "QUANTITY = slice(52, 55)\n",
    "ITEM_TOTAL = slice(55, None)\n",
    "\n",
    "line_items = invoice.split('\\n')[2:]\n",
    "\n",
    "for item in line_items:\n",
    "    print(item[UNIT_PRICE], item[DESCRIPTION])"
   ]
  },
  {
   "cell_type": "code",
   "execution_count": 7,
   "metadata": {},
   "outputs": [
    {
     "name": "stdout",
     "output_type": "stream",
     "text": [
      "[0, 1, 2, 3, 4, 5, 6, 7, 8, 9]\n",
      "[0, 1, 20, 30, 5, 6, 7, 8, 9]\n",
      "[0, 1, 20, 30, 5, 8, 9]\n",
      "[0, 1, 20, 11, 5, 22, 9]\n"
     ]
    }
   ],
   "source": [
    "# 为切片赋值\n",
    "l = list(range(10))\n",
    "print(l)\n",
    "\n",
    "l[2:5] = [20, 30]\n",
    "print(l)\n",
    "\n",
    "del l[5:7]\n",
    "print(l)\n",
    "\n",
    "l[3::2] = [11, 22]\n",
    "print(l)"
   ]
  },
  {
   "cell_type": "markdown",
   "metadata": {},
   "source": [
    "## 使用 + 和 * 处理序列"
   ]
  },
  {
   "cell_type": "code",
   "execution_count": 2,
   "metadata": {},
   "outputs": [
    {
     "name": "stdout",
     "output_type": "stream",
     "text": [
      "[1, 2, 3, 1, 2, 3, 1, 2, 3, 1, 2, 3, 1, 2, 3]\n",
      "abcabcabcabcabc\n"
     ]
    }
   ],
   "source": [
    "l = [1, 2, 3]\n",
    "print(l * 5)\n",
    "\n",
    "print(5 * 'abc')"
   ]
  },
  {
   "cell_type": "code",
   "execution_count": 5,
   "metadata": {},
   "outputs": [
    {
     "name": "stdout",
     "output_type": "stream",
     "text": [
      "[['_', '_', '_'], ['_', '_', '_'], ['_', '_', '_']]\n",
      "[['_', '_', '_'], ['_', '_', 'X'], ['_', '_', '_']]\n",
      "\n",
      "\n",
      "[['_', '_', '_'], ['_', '_', '_'], ['_', '_', '_']]\n",
      "[['_', '_', '_'], ['_', '_', 'X'], ['_', '_', '_']]\n"
     ]
    }
   ],
   "source": [
    "# 构建嵌套列表\n",
    "board = [['_'] * 3 for i in range(3)]\n",
    "print(board)\n",
    "\n",
    "board[1][2] = 'X'\n",
    "print(board)\n",
    "\n",
    "print('\\n')\n",
    "\n",
    "# 相当于\n",
    "board = []\n",
    "for i in range(3):\n",
    "    row = ['_'] * 3 # 新的 row 追加到 board 中\n",
    "    board.append(row)\n",
    "\n",
    "print(board)\n",
    "\n",
    "board[1][2] = 'X'\n",
    "print(board)\n"
   ]
  },
  {
   "cell_type": "code",
   "execution_count": 6,
   "metadata": {},
   "outputs": [
    {
     "name": "stdout",
     "output_type": "stream",
     "text": [
      "[['_', '_', '_'], ['_', '_', '_'], ['_', '_', '_']]\n",
      "[['_', '_', 'O'], ['_', '_', 'O'], ['_', '_', 'O']]\n",
      "\n",
      "\n",
      "[['_', '_', '_'], ['_', '_', '_'], ['_', '_', '_']]\n",
      "[['_', '_', 'O'], ['_', '_', 'O'], ['_', '_', 'O']]\n"
     ]
    }
   ],
   "source": [
    "# 不能在一个列表中 3 次引用同一个列表\n",
    "weird_board = [['_'] * 3] * 3\n",
    "print(weird_board)\n",
    " \n",
    "weird_board[1][2] = 'O'\n",
    "print(weird_board)\n",
    "\n",
    "print('\\n')\n",
    "\n",
    "# 相当于\n",
    "row = ['_'] * 3 \n",
    "weird_board = [] \n",
    "for i in range(3): \n",
    "    weird_board.append(row) # 同一个 row 追加了3次\n",
    "\n",
    "print(weird_board)\n",
    " \n",
    "weird_board[1][2] = 'O'\n",
    "print(weird_board)"
   ]
  },
  {
   "cell_type": "code",
   "execution_count": 9,
   "metadata": {},
   "outputs": [
    {
     "name": "stdout",
     "output_type": "stream",
     "text": [
      "2056869615296: [1, 2, 3]\n",
      "2056869615296: [1, 2, 3, 1, 2, 3]\n",
      "\n",
      "\n",
      "2056869448832: (1, 2, 3)\n",
      "2056865188928: (1, 2, 3, 1, 2, 3)\n"
     ]
    }
   ],
   "source": [
    "l = [1, 2, 3]\n",
    "print(f'{id(l)}: {l}')\n",
    "\n",
    "l *= 2 # 追加\n",
    "print(f'{id(l)}: {l}')\n",
    "\n",
    "print('\\n')\n",
    "\n",
    "t = (1, 2, 3)\n",
    "print(f'{id(t)}: {t}')\n",
    "\n",
    "t *= 2 # 新建\n",
    "print(f'{id(t)}: {t}')"
   ]
  },
  {
   "cell_type": "markdown",
   "metadata": {},
   "source": [
    "## list.sort 与内置函数 sorted\n",
    "list.sort 方法就地排序列表，即不创建副本。返回值为 None，目的就是提醒我们，它更改了接收者， 没有创建新列表。这是 Python API 的一个重要约定：就地更改对象的函数或方法应该返回 None，让调用方清楚地知道接收者已被更改，没有创建新对象。\n",
    "\n",
    "与之相反，内置函数 sorted 返回创建的新列表。该函数接受任何可迭代对象作为参数，包括不可变序列和生成器。"
   ]
  },
  {
   "cell_type": "code",
   "execution_count": 16,
   "metadata": {},
   "outputs": [
    {
     "data": {
      "text/plain": [
       "['Banana', 'apple', 'grape', 'raspberry']"
      ]
     },
     "execution_count": 16,
     "metadata": {},
     "output_type": "execute_result"
    }
   ],
   "source": [
    "fruits = ['grape', 'raspberry', 'apple', 'Banana']\n",
    "sorted(fruits)"
   ]
  },
  {
   "cell_type": "code",
   "execution_count": 11,
   "metadata": {},
   "outputs": [
    {
     "data": {
      "text/plain": [
       "['grape', 'raspberry', 'apple', 'banana']"
      ]
     },
     "execution_count": 11,
     "metadata": {},
     "output_type": "execute_result"
    }
   ],
   "source": [
    "fruits # 原列表没变"
   ]
  },
  {
   "cell_type": "code",
   "execution_count": 12,
   "metadata": {},
   "outputs": [
    {
     "data": {
      "text/plain": [
       "['raspberry', 'grape', 'banana', 'apple']"
      ]
     },
     "execution_count": 12,
     "metadata": {},
     "output_type": "execute_result"
    }
   ],
   "source": [
    "sorted(fruits, reverse=True)"
   ]
  },
  {
   "cell_type": "code",
   "execution_count": 13,
   "metadata": {},
   "outputs": [
    {
     "data": {
      "text/plain": [
       "['grape', 'apple', 'banana', 'raspberry']"
      ]
     },
     "execution_count": 13,
     "metadata": {},
     "output_type": "execute_result"
    }
   ],
   "source": [
    "# 按长度排序\n",
    "sorted(fruits, key=len)"
   ]
  },
  {
   "cell_type": "code",
   "execution_count": 17,
   "metadata": {},
   "outputs": [
    {
     "data": {
      "text/plain": [
       "['apple', 'Banana', 'grape', 'raspberry']"
      ]
     },
     "execution_count": 17,
     "metadata": {},
     "output_type": "execute_result"
    }
   ],
   "source": [
    "# 忽略大小写\n",
    "sorted(fruits, key=str.lower)"
   ]
  },
  {
   "cell_type": "code",
   "execution_count": 19,
   "metadata": {},
   "outputs": [
    {
     "data": {
      "text/plain": [
       "['Banana', 'apple', 'grape', 'raspberry']"
      ]
     },
     "execution_count": 19,
     "metadata": {},
     "output_type": "execute_result"
    }
   ],
   "source": [
    "fruits.sort()\n",
    "fruits # 改变了原列表"
   ]
  },
  {
   "cell_type": "markdown",
   "metadata": {},
   "source": [
    "## 当列表不适用时"
   ]
  },
  {
   "cell_type": "code",
   "execution_count": 21,
   "metadata": {},
   "outputs": [],
   "source": [
    "from array import array"
   ]
  },
  {
   "cell_type": "code",
   "execution_count": null,
   "metadata": {},
   "outputs": [],
   "source": [
    "### 数组\n",
    "# 如果一个列表只包含数值，那么使用 array.array 会更高效。\n",
    "# Python 不允许向数组中添加与指定类型不同的值。\n",
    "\n",
    "# 从 Python3.10 开始，array 类型没有列表那种就地排序方法 sort。如果需要对数组进行排序，请使用内置函数 sorted 重新构建数组。\n",
    "a = array.array(a.typecode, sorted(a))"
   ]
  },
  {
   "cell_type": "code",
   "execution_count": 26,
   "metadata": {},
   "outputs": [
    {
     "name": "stdout",
     "output_type": "stream",
     "text": [
      "[0, 1, 2, 3, 4, 5]\n",
      "[[0, 1, 2], [3, 4, 5]]\n",
      "[[0, 1], [2, 3], [4, 5]]\n",
      "[[0, 1, 2], [33, 22, 5]]\n",
      "[[0, 1], [2, 33], [22, 5]]\n",
      "array('B', [0, 1, 2, 33, 22, 5])\n"
     ]
    }
   ],
   "source": [
    "# memoryview\n",
    "# 内置的 memoryview 类是一种共享内存的序列类型，可在不复制字节的情况下处理数组的切片。\n",
    "\n",
    "# 创建一个 6 字节数组\n",
    "octets = array('B', range(6))\n",
    "# 根据这个数组创建一个 memoryview 对象\n",
    "m1 = memoryview(octets)\n",
    "print(m1.tolist())\n",
    "\n",
    "# 根据前一个 memoryview 对象构建一个新 memoryview 对象，不过是 2 行 3 列\n",
    "m2 = m1.cast('B', [2, 3])\n",
    "print(m2.tolist())\n",
    "\n",
    "m3 = m1.cast('B', [3, 2])\n",
    "print(m3.tolist())\n",
    "\n",
    "m2[1,1] = 22\n",
    "m3[1,1] = 33\n",
    "\n",
    "# 证明 octets、m1、m2 和 m3 之间的内存是共享的\n",
    "print(m2.tolist())\n",
    "print(m3.tolist())\n",
    "print(octets)\n"
   ]
  },
  {
   "cell_type": "code",
   "execution_count": 36,
   "metadata": {},
   "outputs": [
    {
     "name": "stdout",
     "output_type": "stream",
     "text": [
      "[ 0  1  2  3  4  5  6  7  8  9 10 11]\n",
      "<class 'numpy.ndarray'>\n",
      "(12,)\n",
      "[[ 0  1  2  3]\n",
      " [ 4  5  6  7]\n",
      " [ 8  9 10 11]]\n",
      "(3, 4)\n",
      "[ 8  9 10 11]\n",
      "9\n",
      "[1 5 9]\n"
     ]
    },
    {
     "data": {
      "text/plain": [
       "<function ndarray.transpose>"
      ]
     },
     "execution_count": 36,
     "metadata": {},
     "output_type": "execute_result"
    }
   ],
   "source": [
    "# NumPy\n",
    "import numpy as np\n",
    "\n",
    "# 构建一个从整数 0 到 11 的 numpy.ndarray 对象\n",
    "a = np.arange(12)\n",
    "print(a)\n",
    "print(type(a))\n",
    "# 查看数组的维度：这是一个一维数组，含有 12 个元素\n",
    "print(a.shape)\n",
    "\n",
    "# 改变数组的维度：增加一个维度\n",
    "a.shape = 3, 4\n",
    "print(a)\n",
    "print(a.shape)\n",
    "\n",
    "print(a[2])\n",
    "print(a[2, 1])\n",
    "# 获取索引位 1 上的列\n",
    "print(a[:, 1])\n",
    "\n",
    "# 转置数组（行列交换），创建一个新数组\n",
    "# print(a.transpose)\n",
    "a.transpose"
   ]
  },
  {
   "cell_type": "code",
   "execution_count": 6,
   "metadata": {},
   "outputs": [],
   "source": [
    "# NumPy 还支持一些高级操作，例如加载、保存和操作 numpy.ndarray对象的所有元素\n",
    "from random import random, seed\n",
    "seed(10)  # Use seed to make the output consistent\n",
    "\n",
    "with open('floats-1M-lines.txt', 'wt') as fp:\n",
    "    for _ in range(1_000_000):\n",
    "        fp.write(f'{random()}\\n')"
   ]
  },
  {
   "cell_type": "code",
   "execution_count": 10,
   "metadata": {},
   "outputs": [
    {
     "name": "stdout",
     "output_type": "stream",
     "text": [
      "[0.09401318 0.24871    0.52655976]\n",
      "[0.04700659 0.124355   0.26327988]\n",
      "0.0010980000001836743\n",
      "[0.09401318 0.24871    0.52655976]\n"
     ]
    }
   ],
   "source": [
    "import numpy as np\n",
    "\n",
    "floats = np.loadtxt('floats-1M-lines.txt')\n",
    "# 使用序列切片表示法查看最后 3 个数\n",
    "print(floats[-3:])\n",
    "\n",
    "# 把 floats 数组中的每个元素都乘以 .5\n",
    "floats *= .5\n",
    "print(floats[-3:])\n",
    "\n",
    "# 导入高分辨率性能衡量计时器\n",
    "from time import perf_counter as pc\n",
    "\n",
    "# 把每个元素除以 3。1000 万个浮点数耗时不超过 40 毫秒\n",
    "t0 = pc()\n",
    "floats /= 3\n",
    "print(pc() - t0)\n",
    "\n",
    "# 把数组保存到一个 .npy 二进制文件中\n",
    "np.save('floats-1M', floats)\n",
    "\n",
    "# 以内存映射文件的形式把数组加载到另一个数组中。即使文件较大，内存放不下，这样做也能高效处理数组切片\n",
    "floats2 = np.load('floats-1M.npy', 'r+')\n",
    "floats2 *= 6\n",
    "print(floats2[-3:])"
   ]
  },
  {
   "cell_type": "code",
   "execution_count": 17,
   "metadata": {},
   "outputs": [
    {
     "name": "stdout",
     "output_type": "stream",
     "text": [
      "deque([0, 1, 2, 3, 4, 5, 6, 7, 8, 9], maxlen=10)\n",
      "deque([7, 8, 9, 0, 1, 2, 3, 4, 5, 6], maxlen=10)\n",
      "deque([1, 2, 3, 4, 5, 6, 7, 8, 9, 0], maxlen=10)\n",
      "deque([-1, 1, 2, 3, 4, 5, 6, 7, 8, 9], maxlen=10)\n",
      "deque([3, 4, 5, 6, 7, 8, 9, 11, 22, 33], maxlen=10)\n",
      "deque([40, 30, 20, 10, 3, 4, 5, 6, 7, 8], maxlen=10)\n"
     ]
    }
   ],
   "source": [
    "### Deques and Other Queues\n",
    "import collections\n",
    "\n",
    "# 可选的 maxlen 参数设定 deque 实例中最多允许存放多少项。 \n",
    "# maxlen 也是 deque 实例的一个只读属性\n",
    "dq = collections.deque(range(10), maxlen=10)\n",
    "print(dq)\n",
    "\n",
    "# 轮转，当 n > 0，从右端取几项放到左端；当 n < 0，从左端取几项放到右端\n",
    "dq.rotate(3)\n",
    "print(dq)\n",
    "\n",
    "dq.rotate(-4)\n",
    "print(dq)\n",
    "\n",
    "# 向已满（len(d) == d.maxlen）的 deque 对象中的一端追加几项，则另一端要丢弃几项。注意下一行，可以看到 0 没有了\n",
    "dq.appendleft(-1)\n",
    "print(dq)\n",
    "\n",
    "# 在右端添加 3 项，把左端前 3 项 -1、1 和 2 挤出队列\n",
    "dq.extend([11, 22, 33])\n",
    "print(dq)\n",
    "\n",
    "# 注意，extendleft(iter) 依次把 iter 参数中的各项追加到 deque 对象的左端，因此项之间的位置顺序得到保留\n",
    "dq.extendleft([10, 20, 30, 40])\n",
    "print(dq)"
   ]
  },
  {
   "cell_type": "code",
   "execution_count": 19,
   "metadata": {},
   "outputs": [
    {
     "name": "stdout",
     "output_type": "stream",
     "text": [
      "TypeError(\"'<' not supported between instances of 'str' and 'int'\")\n",
      "[0, '1', 5, 6, '9', 14, 19, '23', 28, '28']\n",
      "[0, '1', 14, 19, '23', 28, '28', 5, 6, '9']\n"
     ]
    }
   ],
   "source": [
    "# 聪明的 key\n",
    "l = [28, 14, '28', 5, '9', '1', 0, 6, '23', 19]\n",
    "\n",
    "try:\n",
    "    sorted(l)\n",
    "except TypeError as e:\n",
    "    print(repr(e))\n",
    "\n",
    "print(sorted(l, key=int))\n",
    "print(sorted(l, key=str))"
   ]
  }
 ],
 "metadata": {
  "kernelspec": {
   "display_name": "Python 3.11.11 ('hello')",
   "language": "python",
   "name": "python3"
  },
  "language_info": {
   "codemirror_mode": {
    "name": "ipython",
    "version": 3
   },
   "file_extension": ".py",
   "mimetype": "text/x-python",
   "name": "python",
   "nbconvert_exporter": "python",
   "pygments_lexer": "ipython3",
   "version": "3.11.11"
  },
  "orig_nbformat": 4,
  "vscode": {
   "interpreter": {
    "hash": "f9effe827779de98f29e3e5c60fe53bbb5806097c7eb58be7660c80701377448"
   }
  }
 },
 "nbformat": 4,
 "nbformat_minor": 2
}
