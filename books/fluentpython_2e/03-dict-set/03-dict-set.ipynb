{
 "cells": [
  {
   "cell_type": "markdown",
   "metadata": {},
   "source": [
    "# CH03 字典和集合"
   ]
  },
  {
   "cell_type": "code",
   "execution_count": 1,
   "metadata": {},
   "outputs": [
    {
     "name": "stdout",
     "output_type": "stream",
     "text": [
      "True\n",
      "True\n"
     ]
    }
   ],
   "source": [
    "from collections import abc\n",
    "my_dict = {}\n",
    "print(isinstance(my_dict, abc.Mapping))\n",
    "print(isinstance(my_dict, abc.MutableMapping))"
   ]
  },
  {
   "cell_type": "markdown",
   "metadata": {},
   "source": [
    "## 自动处理缺失的键\n",
    "defaultdict 的 default_factory 仅为 __getitem__ 提供默认值，其他方法用不到。例如，dd 是一个 defaultdict 对象，如果没有键 k，那么 dd[k] 将调用 default_factory 创建默认值，但是 dd.get(k) 依然返回 None，而且 `k in dd` 也返回 False。"
   ]
  },
  {
   "cell_type": "code",
   "execution_count": 4,
   "metadata": {},
   "outputs": [
    {
     "name": "stdout",
     "output_type": "stream",
     "text": [
      "{'bacon', 'eggs', 'spam'}\n",
      "['bacon', 'eggs', 'spam']\n",
      "dict_keys(['spam', 'eggs', 'bacon'])\n"
     ]
    }
   ],
   "source": [
    "## 集合\n",
    "l = ['spam', 'spam', 'eggs', 'spam', 'bacon', 'eggs']\n",
    "# 集合set是一组唯一的对象。集合的基本作用是去除重复项。\n",
    "print(set(l))\n",
    "print(list(set(l)))\n",
    "\n",
    "# 如果想去除重复项，同时保留每一项首次出现位置的顺序，那么现在使用普通的 dict 即可\n",
    "print(dict.fromkeys(l).keys())"
   ]
  }
 ],
 "metadata": {
  "kernelspec": {
   "display_name": "Python 3.11.11 ('hello')",
   "language": "python",
   "name": "python3"
  },
  "language_info": {
   "codemirror_mode": {
    "name": "ipython",
    "version": 3
   },
   "file_extension": ".py",
   "mimetype": "text/x-python",
   "name": "python",
   "nbconvert_exporter": "python",
   "pygments_lexer": "ipython3",
   "version": "3.11.11"
  },
  "orig_nbformat": 4,
  "vscode": {
   "interpreter": {
    "hash": "f9effe827779de98f29e3e5c60fe53bbb5806097c7eb58be7660c80701377448"
   }
  }
 },
 "nbformat": 4,
 "nbformat_minor": 2
}
