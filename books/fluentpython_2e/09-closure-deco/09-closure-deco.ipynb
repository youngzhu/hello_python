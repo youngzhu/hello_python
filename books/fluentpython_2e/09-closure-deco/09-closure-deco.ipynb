{
 "cells": [
  {
   "cell_type": "markdown",
   "metadata": {},
   "source": [
    "# CH09 装饰器和闭包"
   ]
  }
 ],
 "metadata": {
  "kernelspec": {
   "display_name": "Python 3.11.11 ('hello')",
   "language": "python",
   "name": "python3"
  },
  "language_info": {
   "name": "python",
   "version": "3.11.11"
  },
  "orig_nbformat": 4,
  "vscode": {
   "interpreter": {
    "hash": "f9effe827779de98f29e3e5c60fe53bbb5806097c7eb58be7660c80701377448"
   }
  }
 },
 "nbformat": 4,
 "nbformat_minor": 2
}
